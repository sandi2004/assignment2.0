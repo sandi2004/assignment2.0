{
 "cells": [
  {
   "cell_type": "code",
   "execution_count": null,
   "id": "fc5b21ac-bde0-4935-9954-7d73b601b0ab",
   "metadata": {
    "tags": []
   },
   "outputs": [],
   "source": [
    "#Ans 1="
   ]
  },
  {
   "cell_type": "code",
   "execution_count": 30,
   "id": "6d0f5d4d-df0d-4919-b464-db91e554a986",
   "metadata": {},
   "outputs": [
    {
     "name": "stdin",
     "output_type": "stream",
     "text": [
      "enter the marks 89\n"
     ]
    },
    {
     "name": "stdout",
     "output_type": "stream",
     "text": [
      "grade is B\n"
     ]
    }
   ],
   "source": [
    "marks=int(input('enter the marks'))\n",
    "if marks>90:\n",
    "    print(\"grade is A\")\n",
    "elif marks>80 and marks<=90:\n",
    "    print(\"grade is B\")\n",
    "elif marks>=60 and marks<=80:\n",
    "    print(\"garde is C\")\n",
    "else:\n",
    "    print(\"grade is D\")\n",
    "    "
   ]
  },
  {
   "cell_type": "code",
   "execution_count": 10,
   "id": "d165fd60-4863-44a7-95df-889e70d04d0a",
   "metadata": {},
   "outputs": [],
   "source": [
    "#Ans no=2"
   ]
  },
  {
   "cell_type": "code",
   "execution_count": 12,
   "id": "0b9f485f-c760-49a9-b2fb-7bba79dde01a",
   "metadata": {},
   "outputs": [
    {
     "name": "stdin",
     "output_type": "stream",
     "text": [
      "ente the price of bike 34789\n"
     ]
    },
    {
     "name": "stdout",
     "output_type": "stream",
     "text": [
      "Tax paid id 5%\n"
     ]
    }
   ],
   "source": [
    "price=float(input(\"ente the price of bike\"))\n",
    "if price>100000:\n",
    "    print(\"Tax paid is =15%\")\n",
    "elif price<=100000 and price>50000:\n",
    "    print(\"Tax paid is 10%\")\n",
    "elif price<=50000:\n",
    "    print(\"Tax paid id 5%\")\n",
    "    "
   ]
  },
  {
   "cell_type": "code",
   "execution_count": 21,
   "id": "b9b867b0-7b0b-46fa-98f2-13649369b56c",
   "metadata": {},
   "outputs": [],
   "source": [
    "#Ans=3"
   ]
  },
  {
   "cell_type": "code",
   "execution_count": 18,
   "id": "68d14793-7111-43d8-a47c-e4591276e611",
   "metadata": {},
   "outputs": [],
   "source": [
    "d={'Delhi':'Red Fort','Agra':'Taj Mahal','Jaipur':'Jal Mahal'}"
   ]
  },
  {
   "cell_type": "code",
   "execution_count": 20,
   "id": "eb3cd7b3-998c-4267-93da-515c4e37e8e6",
   "metadata": {},
   "outputs": [
    {
     "data": {
      "text/plain": [
       "dict"
      ]
     },
     "execution_count": 20,
     "metadata": {},
     "output_type": "execute_result"
    }
   ],
   "source": [
    "type(d)"
   ]
  },
  {
   "cell_type": "code",
   "execution_count": 27,
   "id": "0b5e2cf8-a78e-485c-97f9-29779b4050da",
   "metadata": {},
   "outputs": [
    {
     "name": "stdin",
     "output_type": "stream",
     "text": [
      "enter the city name Delhi\n"
     ]
    },
    {
     "data": {
      "text/plain": [
       "'Red Fort'"
      ]
     },
     "execution_count": 27,
     "metadata": {},
     "output_type": "execute_result"
    }
   ],
   "source": [
    "City=input(\"enter the city name\")\n",
    "d.get(City)"
   ]
  },
  {
   "cell_type": "code",
   "execution_count": 28,
   "id": "90b87a9b-6fd4-43b1-90ac-60009f226b71",
   "metadata": {},
   "outputs": [],
   "source": [
    "#ans=4"
   ]
  },
  {
   "cell_type": "code",
   "execution_count": 33,
   "id": "4d3e781d-4553-4a3d-bf7e-6fc8956eaabb",
   "metadata": {},
   "outputs": [
    {
     "name": "stdin",
     "output_type": "stream",
     "text": [
      "enter the number 345\n"
     ]
    },
    {
     "data": {
      "text/plain": [
       "4"
      ]
     },
     "execution_count": 33,
     "metadata": {},
     "output_type": "execute_result"
    }
   ],
   "source": [
    "number=int(input('enter the number'))\n",
    "m=0\n",
    "while(number>=10):\n",
    "    number=number/3\n",
    "    m=m+1\n",
    "m   \n"
   ]
  },
  {
   "cell_type": "code",
   "execution_count": 35,
   "id": "9daae8dc-7a2c-4824-8cb1-794fcefa10e3",
   "metadata": {},
   "outputs": [],
   "source": [
    "#Ans=5\n",
    "#Python while loop is used to run a black\n",
    "#code until a certain codition is met. Here\n",
    "#,a while loop evaluates the condition .\n",
    "#if the condition evaluates to true ,the \n",
    "#code inside the while loop is executed.\n",
    "#ans no 4 is perfect example of this \n",
    "#problem no 5."
   ]
  },
  {
   "cell_type": "code",
   "execution_count": 5,
   "id": "6aa2715d-da7e-450c-887a-2bc2e1e41a71",
   "metadata": {},
   "outputs": [],
   "source": [
    "#ans6\n",
    "#pattern1="
   ]
  },
  {
   "cell_type": "code",
   "execution_count": 6,
   "id": "c65ba4bf-429e-418f-b012-0bca7e81476b",
   "metadata": {},
   "outputs": [
    {
     "name": "stdout",
     "output_type": "stream",
     "text": [
      "*****\n",
      "*****\n",
      "*****\n",
      "*****\n",
      "*****\n"
     ]
    }
   ],
   "source": [
    "i=1\n",
    "while i<=5:\n",
    "    j=1\n",
    "    while j<=5:\n",
    "        print(\"*\",end=\"\")\n",
    "        j=j+1\n",
    "    print()\n",
    "    i=i+1"
   ]
  },
  {
   "cell_type": "code",
   "execution_count": 7,
   "id": "54c6f1d2-9266-473f-8f9b-86f0e2015067",
   "metadata": {},
   "outputs": [],
   "source": [
    "#pattern2"
   ]
  },
  {
   "cell_type": "code",
   "execution_count": 8,
   "id": "a5bf6aa6-f6e9-481d-884c-e5a25573c285",
   "metadata": {},
   "outputs": [
    {
     "name": "stdout",
     "output_type": "stream",
     "text": [
      "*\n",
      "**\n",
      "***\n",
      "****\n",
      "*****\n"
     ]
    }
   ],
   "source": [
    "i=1\n",
    "while i<=5:\n",
    "    j=1\n",
    "    while j<=i:\n",
    "        print(\"*\",end=\"\")\n",
    "        j=j+1\n",
    "    print()\n",
    "    i=i+1"
   ]
  },
  {
   "cell_type": "code",
   "execution_count": 12,
   "id": "4568476b-e2bf-4c45-b44e-07e4d484f193",
   "metadata": {},
   "outputs": [],
   "source": [
    "#pattern3"
   ]
  },
  {
   "cell_type": "code",
   "execution_count": 13,
   "id": "7161be11-cc62-4638-aa58-ba0236254a91",
   "metadata": {},
   "outputs": [
    {
     "name": "stdout",
     "output_type": "stream",
     "text": [
      "1\n",
      "22\n",
      "333\n",
      "4444\n",
      "55555\n"
     ]
    }
   ],
   "source": [
    "i=1\n",
    "while i<=5:\n",
    "    j=1\n",
    "    while j<=i:\n",
    "        print(i,end=\"\")\n",
    "        j=j+1\n",
    "    print()\n",
    "    i=i+1"
   ]
  },
  {
   "cell_type": "code",
   "execution_count": 14,
   "id": "28c581f1-438c-44ae-ac97-1ea55b00c577",
   "metadata": {},
   "outputs": [],
   "source": [
    "#patteren4"
   ]
  },
  {
   "cell_type": "code",
   "execution_count": 15,
   "id": "499a918c-4bcf-478f-a199-b5a80654fd03",
   "metadata": {},
   "outputs": [
    {
     "name": "stdout",
     "output_type": "stream",
     "text": [
      "*****\n",
      "****\n",
      "***\n",
      "**\n",
      "*\n"
     ]
    }
   ],
   "source": [
    "i=1\n",
    "while i<=5:\n",
    "    j=1\n",
    "    while j<=6-i:\n",
    "        print(\"*\",end=\"\")\n",
    "        j=j+1\n",
    "    print()\n",
    "    i=i+1"
   ]
  },
  {
   "cell_type": "code",
   "execution_count": null,
   "id": "2f2aef4a-5f13-49d2-a123-9c5c643adc13",
   "metadata": {},
   "outputs": [],
   "source": [
    "#ans7="
   ]
  },
  {
   "cell_type": "code",
   "execution_count": null,
   "id": "92329251-bf13-4c71-967c-257871e744e2",
   "metadata": {},
   "outputs": [],
   "source": [
    "i=1\n",
    "while i<=10:\n",
    "    print(11-i,end=\" \")\n",
    "    i=i+1"
   ]
  },
  {
   "cell_type": "code",
   "execution_count": null,
   "id": "6158076f-9a0c-43d9-81cc-75c3b74fb377",
   "metadata": {},
   "outputs": [],
   "source": [
    "#ans8="
   ]
  },
  {
   "cell_type": "code",
   "execution_count": null,
   "id": "30cd80c7-d45a-4100-9c89-cca8a1fdc31e",
   "metadata": {},
   "outputs": [],
   "source": [
    "i=1\n",
    "while i<=10:\n",
    "    print(11-i,end=\" \")\n",
    "    i=i+1"
   ]
  },
  {
   "cell_type": "code",
   "execution_count": null,
   "id": "742b5c4c-df8a-49be-9364-5d0c9083def9",
   "metadata": {},
   "outputs": [],
   "source": []
  }
 ],
 "metadata": {
  "kernelspec": {
   "display_name": "Python 3 (ipykernel)",
   "language": "python",
   "name": "python3"
  },
  "language_info": {
   "codemirror_mode": {
    "name": "ipython",
    "version": 3
   },
   "file_extension": ".py",
   "mimetype": "text/x-python",
   "name": "python",
   "nbconvert_exporter": "python",
   "pygments_lexer": "ipython3",
   "version": "3.10.8"
  }
 },
 "nbformat": 4,
 "nbformat_minor": 5
}
